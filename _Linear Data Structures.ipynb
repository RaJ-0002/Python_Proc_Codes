{
 "cells": [
  {
   "cell_type": "markdown",
   "id": "096228b1",
   "metadata": {},
   "source": [
    "# Linear Data Structures"
   ]
  },
  {
   "cell_type": "markdown",
   "id": "4f3ac953",
   "metadata": {},
   "source": [
    "1.Write a program to find all pairs of an integer array whose sum is equal to a given number?"
   ]
  },
  {
   "cell_type": "code",
   "execution_count": 27,
   "id": "d2e0a474",
   "metadata": {},
   "outputs": [
    {
     "name": "stdout",
     "output_type": "stream",
     "text": [
      "Enter the integer values separated by , : 2, 4, 3, 5, 6, -2, 8, 7\n",
      "Enter the target sum : 4\n",
      "Pairs with sum 4 : [(-2, 6)]\n"
     ]
    }
   ],
   "source": [
    "def sum_of_pairs(arr, target_sum):\n",
    "    pairs = []\n",
    "    seen = set()\n",
    "\n",
    "    for num in arr:\n",
    "        complement = target_sum - num\n",
    "        if complement in seen:\n",
    "            pairs.append((num, complement))\n",
    "        seen.add(num)\n",
    "\n",
    "    return pairs\n",
    "\n",
    "int_array = input(\"Enter the integer values separated by , : \")\n",
    "int_array = int_array.split(\",\")\n",
    "num_array=[int(i) for i in int_array]\n",
    "\n",
    "target = int(input(\"Enter the target sum : \"))\n",
    "\n",
    "result = sum_of_pairs(num_array, target)\n",
    "print(\"Pairs with sum\", target, \":\", result)\n"
   ]
  },
  {
   "cell_type": "code",
   "execution_count": null,
   "id": "692bab8b",
   "metadata": {},
   "outputs": [],
   "source": []
  },
  {
   "cell_type": "markdown",
   "id": "c6770db1",
   "metadata": {},
   "source": [
    "2.Write a program to reverse an array in place? In place means you cannot create a new array. You have to update the original array."
   ]
  },
  {
   "cell_type": "code",
   "execution_count": 33,
   "id": "ddd24b49",
   "metadata": {},
   "outputs": [
    {
     "name": "stdout",
     "output_type": "stream",
     "text": [
      "Enter the integer values separated by , : 1,2,2,3\n",
      "[1, 2, 2, 3]\n",
      "Reverse of an array  [3, 2, 2, 1]\n"
     ]
    }
   ],
   "source": [
    "def reverse_of_array(arr):\n",
    "    \n",
    "    start = 0\n",
    "    end=len(arr)-1\n",
    "    \n",
    "    while start<end:\n",
    "        arr[start],arr[end] = arr[end],arr[start]\n",
    "        start += 1\n",
    "        end -=1\n",
    "    return arr\n",
    "    \n",
    "\n",
    "int_array = input(\"Enter the integer values separated by , : \")\n",
    "int_array = int_array.split(\",\")\n",
    "num_array=[int(i) for i in int_array]\n",
    "print(num_array)\n",
    "result = reverse_of_array(num_array)\n",
    "print(\"Reverse of an array \", result)"
   ]
  },
  {
   "cell_type": "code",
   "execution_count": null,
   "id": "82536a84",
   "metadata": {},
   "outputs": [],
   "source": []
  },
  {
   "cell_type": "markdown",
   "id": "e8ac28a4",
   "metadata": {},
   "source": [
    "Q3. Write a program to check if two strings are a rotation of each other?"
   ]
  },
  {
   "cell_type": "code",
   "execution_count": 53,
   "id": "e9810a3f",
   "metadata": {},
   "outputs": [
    {
     "name": "stdout",
     "output_type": "stream",
     "text": [
      "ssd\n",
      "ssd\n",
      "ssd and ssd are rotations of each other.\n"
     ]
    }
   ],
   "source": [
    "def are_rotations(str1, str2):\n",
    "    if len(str1) != len(str2):\n",
    "        return False\n",
    "    \n",
    "    concatenated = str1 + str1\n",
    "    if str2 in concatenated:\n",
    "        return True\n",
    "    \n",
    "    return False\n",
    "\n",
    "str1= input()\n",
    "str2= input()\n",
    "\n",
    "if are_rotations(str1, str2):\n",
    "    print(f\"{str1} and {str2} are rotations of each other.\")\n",
    "else:\n",
    "    print(f\"{str1} and {str2} are not rotations of each other.\")"
   ]
  },
  {
   "cell_type": "code",
   "execution_count": null,
   "id": "1e6ab8fc",
   "metadata": {},
   "outputs": [],
   "source": []
  },
  {
   "cell_type": "markdown",
   "id": "f1181444",
   "metadata": {},
   "source": [
    "Q4. Write a program to print the first non-repeated character from a string?"
   ]
  },
  {
   "cell_type": "code",
   "execution_count": 81,
   "id": "e0b3eae0",
   "metadata": {},
   "outputs": [
    {
     "name": "stdout",
     "output_type": "stream",
     "text": [
      "Enter the string : aassddffggrrdsdfz\n",
      "The first non-repeated character in 'aassddffggrrdsdfz' is 'z'.\n"
     ]
    }
   ],
   "source": [
    "def first_non_repeated_character(string):\n",
    "    char_count = {}\n",
    "    \n",
    "    for char in string:\n",
    "        if char in char_count:\n",
    "            char_count[char] += 1\n",
    "        else:\n",
    "            char_count[char] = 1\n",
    "    \n",
    "    for char in string:\n",
    "        if char_count[char] == 1:\n",
    "            return char\n",
    "    \n",
    "    return None\n",
    "\n",
    "input_string = input(\"Enter the string : \")\n",
    "result = first_non_repeated_character(input_string)\n",
    "\n",
    "if result:\n",
    "    print(f\"The first non-repeated character in '{input_string}' is '{result}'.\")\n",
    "else:\n",
    "    print(\"There are no non-repeated characters in the string.\")\n"
   ]
  },
  {
   "cell_type": "code",
   "execution_count": null,
   "id": "729a020d",
   "metadata": {},
   "outputs": [],
   "source": []
  },
  {
   "cell_type": "markdown",
   "id": "93c999a3",
   "metadata": {},
   "source": [
    "Q5. Read about the Tower of Hanoi algorithm. Write a program to implement it"
   ]
  },
  {
   "cell_type": "code",
   "execution_count": 60,
   "id": "5c312da3",
   "metadata": {},
   "outputs": [
    {
     "name": "stdout",
     "output_type": "stream",
     "text": [
      "Enter the number of disks2\n",
      "Move disk 1 from A to B\n",
      "Move disk 2 from A to C\n",
      "Move disk 1 from B to C\n"
     ]
    }
   ],
   "source": [
    "def tower_of_hanoi(n, source, auxiliary, target):\n",
    "    if n > 0:\n",
    "\n",
    "        tower_of_hanoi(n - 1, source, target, auxiliary)\n",
    "        \n",
    "        print(f\"Move disk {n} from {source} to {target}\")\n",
    "        \n",
    "        tower_of_hanoi(n - 1, auxiliary, source, target)\n",
    "\n",
    "\n",
    "num_disks = int(input(\"Enter the number of disks\"))\n",
    "tower_of_hanoi(num_disks, 'A', 'B', 'C')\n"
   ]
  },
  {
   "cell_type": "code",
   "execution_count": null,
   "id": "ce62e36b",
   "metadata": {},
   "outputs": [],
   "source": []
  },
  {
   "cell_type": "markdown",
   "id": "b30f7e77",
   "metadata": {},
   "source": [
    "Q6. Read about infix, prefix, and postfix expressions. Write a program to convert postfix to prefix expression."
   ]
  },
  {
   "cell_type": "code",
   "execution_count": 64,
   "id": "f6de6415",
   "metadata": {},
   "outputs": [
    {
     "name": "stdout",
     "output_type": "stream",
     "text": [
      "Prefix expression: *+235\n"
     ]
    }
   ],
   "source": [
    "def postfix_to_prefix(postfix_expression):\n",
    "    stack = []\n",
    "    \n",
    "    for token in postfix_expression:\n",
    "        if token.isalnum():\n",
    "            stack.append(token)\n",
    "        else:\n",
    "            operand2 = stack.pop()\n",
    "            operand1 = stack.pop()\n",
    "            new_token = token + operand1 + operand2\n",
    "            stack.append(new_token)\n",
    "    \n",
    "    return stack.pop()\n",
    "\n",
    "postfix_exp = \"23+5*\"\n",
    "prefix_exp = postfix_to_prefix(postfix_exp)\n",
    "print(\"Prefix expression:\", prefix_exp)\n"
   ]
  },
  {
   "cell_type": "code",
   "execution_count": null,
   "id": "0f324b06",
   "metadata": {},
   "outputs": [],
   "source": []
  },
  {
   "cell_type": "markdown",
   "id": "3c22fea6",
   "metadata": {},
   "source": [
    "Q7. Write a program to convert prefix expression to infix expression."
   ]
  },
  {
   "cell_type": "code",
   "execution_count": 65,
   "id": "8d280d75",
   "metadata": {},
   "outputs": [
    {
     "name": "stdout",
     "output_type": "stream",
     "text": [
      "Infix expression: ((2+3)*(4/5))\n"
     ]
    }
   ],
   "source": [
    "def is_operator(char):\n",
    "    return char in \"+-*/\"\n",
    "\n",
    "def prefix_to_infix(prefix_expression):\n",
    "    stack = []\n",
    "    \n",
    "    for char in reversed(prefix_expression):\n",
    "        if char.isalnum():\n",
    "            stack.append(char)\n",
    "        elif is_operator(char):\n",
    "            operand1 = stack.pop()\n",
    "            operand2 = stack.pop()\n",
    "            new_token = f\"({operand1}{char}{operand2})\"\n",
    "            stack.append(new_token)\n",
    "    \n",
    "    return stack.pop()\n",
    "\n",
    "# Example usage\n",
    "prefix_exp = \"*+23/456\"\n",
    "infix_exp = prefix_to_infix(prefix_exp)\n",
    "print(\"Infix expression:\", infix_exp)\n"
   ]
  },
  {
   "cell_type": "code",
   "execution_count": null,
   "id": "d1853ff1",
   "metadata": {},
   "outputs": [],
   "source": []
  },
  {
   "cell_type": "markdown",
   "id": "29327c30",
   "metadata": {},
   "source": [
    "Q8. Write a program to check if all the brackets are closed in a given code snippet."
   ]
  },
  {
   "cell_type": "code",
   "execution_count": 66,
   "id": "a3f10794",
   "metadata": {},
   "outputs": [
    {
     "name": "stdout",
     "output_type": "stream",
     "text": [
      "All brackets are correctly closed.\n"
     ]
    }
   ],
   "source": [
    "def are_brackets_balanced(code):\n",
    "    stack = []\n",
    "    brackets = {\"(\": \")\", \"[\": \"]\", \"{\": \"}\"}\n",
    "    \n",
    "    for char in code:\n",
    "        if char in brackets.keys():\n",
    "            stack.append(char)\n",
    "        elif char in brackets.values():\n",
    "            if not stack or brackets[stack.pop()] != char:\n",
    "                return False\n",
    "    \n",
    "    return len(stack) == 0\n",
    "\n",
    "\n",
    "code_snippet = \"{[()()]}\"\n",
    "if are_brackets_balanced(code_snippet):\n",
    "    print(\"All brackets are correctly closed.\")\n",
    "else:\n",
    "    print(\"Brackets are not balanced.\")\n"
   ]
  },
  {
   "cell_type": "code",
   "execution_count": null,
   "id": "e5a163d3",
   "metadata": {},
   "outputs": [],
   "source": []
  },
  {
   "cell_type": "markdown",
   "id": "608e57b5",
   "metadata": {},
   "source": [
    "Q9. Write a program to reverse a stack."
   ]
  },
  {
   "cell_type": "code",
   "execution_count": 72,
   "id": "488ec981",
   "metadata": {},
   "outputs": [
    {
     "name": "stdout",
     "output_type": "stream",
     "text": [
      "Original Stack: [1, 2, 3, 4]\n",
      "Reversed Stack: [4, 3, 2, 1]\n"
     ]
    }
   ],
   "source": [
    "class Stack:\n",
    "    def __init__(self):\n",
    "        self.items = []\n",
    "\n",
    "    def push(self, item):\n",
    "        self.items.append(item)\n",
    "\n",
    "    def pop(self):\n",
    "        if not self.is_empty():\n",
    "            return self.items.pop()\n",
    "\n",
    "    def is_empty(self):\n",
    "        return len(self.items) == 0\n",
    "\n",
    "    def size(self):\n",
    "        return len(self.items)\n",
    "\n",
    "    def top(self):\n",
    "        if not self.is_empty():\n",
    "            return self.items[-1]\n",
    "\n",
    "def reverse_stack(stack):\n",
    "    aux_stack = Stack()\n",
    "\n",
    "    while not stack.is_empty():\n",
    "        aux_stack.push(stack.pop())\n",
    "\n",
    "    return aux_stack\n",
    "\n",
    "\n",
    "original_stack = Stack()\n",
    "original_stack.push(1)\n",
    "original_stack.push(2)\n",
    "original_stack.push(3)\n",
    "original_stack.push(4)\n",
    "\n",
    "print(\"Original Stack:\", original_stack.items)\n",
    "\n",
    "reversed_stack = reverse_stack(original_stack)\n",
    "\n",
    "print(\"Reversed Stack:\", reversed_stack.items)\n"
   ]
  },
  {
   "cell_type": "code",
   "execution_count": null,
   "id": "a7cfc91f",
   "metadata": {},
   "outputs": [],
   "source": []
  },
  {
   "cell_type": "markdown",
   "id": "a1d91d74",
   "metadata": {},
   "source": [
    "Q10. Write a program to find the smallest number using a stack."
   ]
  },
  {
   "cell_type": "code",
   "execution_count": 78,
   "id": "9761ad0c",
   "metadata": {},
   "outputs": [
    {
     "name": "stdout",
     "output_type": "stream",
     "text": [
      "Minimum number in the stack: 1\n"
     ]
    }
   ],
   "source": [
    "class Stack:\n",
    "    def __init__(self):\n",
    "        self.items = []\n",
    "\n",
    "    def push(self, item):\n",
    "        self.items.append(item)\n",
    "\n",
    "    def pop(self):\n",
    "        if not self.is_empty():\n",
    "            return self.items.pop()\n",
    "\n",
    "    def is_empty(self):\n",
    "        return len(self.items) == 0\n",
    "\n",
    "    def size(self):\n",
    "        return len(self.items)\n",
    "\n",
    "    def top(self):\n",
    "        if not self.is_empty():\n",
    "            return self.items[-1]\n",
    "\n",
    "def find_min(stack):\n",
    "    if stack.is_empty():\n",
    "        return None\n",
    "    \n",
    "    min_num = stack.pop()\n",
    "    while not stack.is_empty():\n",
    "        num = stack.pop()\n",
    "        min_num = min(min_num, num)\n",
    "    \n",
    "    return min_num\n",
    "\n",
    "\n",
    "number_stack = Stack()\n",
    "number_stack.push(5)\n",
    "number_stack.push(2)\n",
    "number_stack.push(8)\n",
    "number_stack.push(1)\n",
    "number_stack.push(10)\n",
    "\n",
    "min_number = find_min(number_stack)\n",
    "if min_number is not None:\n",
    "    print(\"Minimum number in the stack:\", min_number)\n",
    "else:\n",
    "    print(\"Stack is empty.\")\n"
   ]
  },
  {
   "cell_type": "code",
   "execution_count": null,
   "id": "ed170d2b",
   "metadata": {},
   "outputs": [],
   "source": []
  }
 ],
 "metadata": {
  "kernelspec": {
   "display_name": "Python 3 (ipykernel)",
   "language": "python",
   "name": "python3"
  },
  "language_info": {
   "codemirror_mode": {
    "name": "ipython",
    "version": 3
   },
   "file_extension": ".py",
   "mimetype": "text/x-python",
   "name": "python",
   "nbconvert_exporter": "python",
   "pygments_lexer": "ipython3",
   "version": "3.10.9"
  }
 },
 "nbformat": 4,
 "nbformat_minor": 5
}
